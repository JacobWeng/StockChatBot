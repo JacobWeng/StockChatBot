{
 "cells": [
  {
   "cell_type": "markdown",
   "metadata": {},
   "source": [
    "## 以下采用iexfinance 获取美股股票信息代码"
   ]
  },
  {
   "cell_type": "code",
   "execution_count": 488,
   "metadata": {},
   "outputs": [],
   "source": [
    "from iexfinance.stocks import Stock\n",
    "iex_token = \"sk_8f26edc50f42482d9d122a1fd4ee34bb\""
   ]
  },
  {
   "cell_type": "code",
   "execution_count": 489,
   "metadata": {},
   "outputs": [],
   "source": [
    "# 获取开盘价\n",
    "def get_stock_open(stock_code):\n",
    "    s = Stock(stock_code, token=iex_token)\n",
    "    return s.get_open()"
   ]
  },
  {
   "cell_type": "code",
   "execution_count": 490,
   "metadata": {},
   "outputs": [],
   "source": [
    "# 获取成交量volume\n",
    "def get_stock_volume(stock_code):\n",
    "    s = Stock(stock_code, token=iex_token)\n",
    "    return s.get_volume()"
   ]
  },
  {
   "cell_type": "code",
   "execution_count": 491,
   "metadata": {},
   "outputs": [],
   "source": [
    "# 获取股票市值\n",
    "def get_stock_market_cup(stock_code):\n",
    "    s = Stock(stock_code, token=iex_token)\n",
    "    return s.get_market_cap()"
   ]
  },
  {
   "cell_type": "markdown",
   "metadata": {},
   "source": [
    "## 以下采用 openstock 获取美股股票信息"
   ]
  },
  {
   "cell_type": "code",
   "execution_count": 5,
   "metadata": {},
   "outputs": [],
   "source": [
    "openstock_token = \"8d080d3e04efa541\"\n",
    "from openstock.stock.client import StockClient\n",
    "stock_client = StockClient(openstock_token)"
   ]
  },
  {
   "cell_type": "code",
   "execution_count": 6,
   "metadata": {},
   "outputs": [],
   "source": [
    "# 获取实时行情\n",
    "def get_stock_quote(stock_code):\n",
    "    stock_quote = stock_client.get_stock_quote(query=[stock_code])\n",
    "    return stock_quote\n"
   ]
  },
  {
   "cell_type": "code",
   "execution_count": 7,
   "metadata": {},
   "outputs": [],
   "source": [
    "company_code_maps = {\n",
    "    'google':'GOOG',\n",
    "    'apple': 'APPL',\n",
    "    'alibaba': 'BABA',\n",
    "    'jd': 'JD',\n",
    "    'ibm': 'IBM',\n",
    "    'aws': 'AMZN'\n",
    "}\n",
    "\n",
    "def find_stock_code_from_company(company):\n",
    "    return company_code_maps[company.lower()]\n",
    "\n"
   ]
  },
  {
   "cell_type": "markdown",
   "metadata": {},
   "source": [
    "## 使用rasa训练数据"
   ]
  },
  {
   "cell_type": "code",
   "execution_count": 9,
   "metadata": {},
   "outputs": [
    {
     "name": "stdout",
     "output_type": "stream",
     "text": [
      "Fitting 2 folds for each of 6 candidates, totalling 12 fits\n"
     ]
    },
    {
     "name": "stderr",
     "output_type": "stream",
     "text": [
      "[Parallel(n_jobs=1)]: Using backend SequentialBackend with 1 concurrent workers.\n",
      "[Parallel(n_jobs=1)]: Done  12 out of  12 | elapsed:    0.1s finished\n",
      "/Users/xixiangweng/anaconda3/lib/python3.7/site-packages/sklearn/model_selection/_search.py:841: DeprecationWarning: The default of the `iid` parameter will change from True to False in version 0.22 and will be removed in 0.24. This will change numeric results when test-set sizes are unequal.\n",
      "  DeprecationWarning)\n"
     ]
    }
   ],
   "source": [
    "def train(config_file,train_data):\n",
    "    import warnings\n",
    "    warnings.filterwarnings('ignore')\n",
    "    # Import necessary modules\n",
    "    from rasa.nlu.training_data import load_data\n",
    "    from rasa.nlu.config import RasaNLUModelConfig\n",
    "    from rasa.nlu.model import Trainer\n",
    "    from rasa.nlu import config\n",
    "\n",
    "    # Create a trainer that uses this config\n",
    "    trainer = Trainer(config.load(config_file))\n",
    "\n",
    "    # Load the training data\n",
    "    training_data = load_data(train_data)\n",
    "\n",
    "    # Create an interpreter by training the model\n",
    "    interpreter = trainer.train(training_data)\n",
    "    return interpreter\n",
    "\n",
    "interpreter = train(\"config_spacy.yml\",\"stock-rasa.md\")"
   ]
  },
  {
   "cell_type": "code",
   "execution_count": 10,
   "metadata": {},
   "outputs": [
    {
     "data": {
      "text/plain": [
       "{'intent': {'name': 'stock_search', 'confidence': 0.7004958960422291},\n",
       " 'entities': [{'start': 36,\n",
       "   'end': 43,\n",
       "   'value': 'alibaba',\n",
       "   'entity': 'company',\n",
       "   'confidence': 0.8276649055788298,\n",
       "   'extractor': 'CRFEntityExtractor',\n",
       "   'processors': ['EntitySynonymMapper']},\n",
       "  {'start': 55,\n",
       "   'end': 57,\n",
       "   'value': 'jd',\n",
       "   'entity': 'company',\n",
       "   'confidence': 0.7436892587097529,\n",
       "   'extractor': 'CRFEntityExtractor'}],\n",
       " 'intent_ranking': [{'name': 'stock_search', 'confidence': 0.7004958960422291},\n",
       "  {'name': 'affirm', 'confidence': 0.11025473187407774},\n",
       "  {'name': 'greet', 'confidence': 0.06838247160573108},\n",
       "  {'name': 'goodbye', 'confidence': 0.053495856174547815},\n",
       "  {'name': 'robot_intro', 'confidence': 0.03885847198871904},\n",
       "  {'name': 'thank', 'confidence': 0.028512572314695346}],\n",
       " 'text': 'Sorry, I wanna know something about alibaba instead of jd'}"
      ]
     },
     "execution_count": 10,
     "metadata": {},
     "output_type": "execute_result"
    }
   ],
   "source": [
    "# interpreter.parse(\"i wanna Google open price\")\n",
    "# interpreter.parse(\"tell me about the volume\")\n",
    "# interpreter.parse(\"Welcome, I am your robot which can help you stock searching\")\n",
    "interpreter.parse(\"Sorry, I wanna know something about alibaba instead of jd\")"
   ]
  },
  {
   "cell_type": "code",
   "execution_count": 11,
   "metadata": {},
   "outputs": [],
   "source": [
    "# pattern_prefer = re.compile(\".* prefer (?:the)?\\s*(\\w+) to (?:the)?\\s*(\\w+)\")\n",
    "# pattern_instead = re.compile(r\"(\\w+) instead of (\\w+)\")\n",
    "# pattern_not = re.compile(\".* (\\w+), not (?:the)?\\s*(\\w+)\")\n",
    "\n",
    "# Define negated_ents()\n",
    "import re\n",
    "negated_patterns = [\n",
    "    re.compile(\".* prefer (?:the)?\\s*(\\w+) to (?:the)?\\s*(\\w+)\"),\n",
    "    re.compile(r\"(\\w+) instead of (\\w+)\"),\n",
    "    re.compile(\".* (\\w+), not (?:the)?\\s*(\\w+)\")\n",
    "]\n",
    "\n",
    "def negated_ents(phrase):\n",
    "    for pattern in negated_patterns:\n",
    "        group = pattern.search(phrase)\n",
    "        if group and (len(group.groups()) >= 2):\n",
    "            return True,group.groups()\n",
    "\n",
    "    return False,None\n"
   ]
  },
  {
   "cell_type": "code",
   "execution_count": 12,
   "metadata": {},
   "outputs": [],
   "source": [
    "def parse_entities(message):\n",
    "    entities = interpreter.parse(message)['entities']\n",
    "    params = {}\n",
    "    # Fill the dictionary with entities\n",
    "    for ent in entities:\n",
    "        params[ent[\"entity\"]] = str(ent[\"value\"])   \n",
    "    return params"
   ]
  },
  {
   "cell_type": "code",
   "execution_count": 13,
   "metadata": {},
   "outputs": [],
   "source": [
    "def parse_intent(message):\n",
    "    intent = interpreter.parse(message)['intent']\n",
    "    params = {}\n",
    "    params[intent['name']] = intent['confidence']\n",
    "    return params"
   ]
  },
  {
   "cell_type": "code",
   "execution_count": 14,
   "metadata": {},
   "outputs": [
    {
     "name": "stdout",
     "output_type": "stream",
     "text": [
      "{'stock_code': 'appl', 'stock_term': 'open'}\n",
      "{'greet': 0.6109651688941322}\n"
     ]
    }
   ],
   "source": [
    "entities = parse_entities('i wanna know APPL open price')\n",
    "intents = parse_intent('hey, good morning')\n",
    "print(entities)\n",
    "print(intents)"
   ]
  },
  {
   "cell_type": "code",
   "execution_count": 15,
   "metadata": {},
   "outputs": [],
   "source": [
    "def find_stock_code_from_message(message):\n",
    "    entities = parse_entities(message)\n",
    "    \n",
    "    if 'company' in entities:\n",
    "        return find_stock_code_from_company(entities['company'])\n",
    "    if 'stock_code' in entities:\n",
    "        return entities['stock_code'].upper()\n",
    "    return none"
   ]
  },
  {
   "cell_type": "code",
   "execution_count": 16,
   "metadata": {},
   "outputs": [
    {
     "data": {
      "text/plain": [
       "'APPL'"
      ]
     },
     "execution_count": 16,
     "metadata": {},
     "output_type": "execute_result"
    }
   ],
   "source": [
    "find_stock_code_from_message(\"i wanna APPL open price\")"
   ]
  },
  {
   "cell_type": "code",
   "execution_count": 17,
   "metadata": {},
   "outputs": [
    {
     "data": {
      "text/plain": [
       "[{'bid_size': 0,\n",
       "  'status': 'NORMAL',\n",
       "  'high': 1831.091,\n",
       "  'open': 1828.95,\n",
       "  'low': 1802.22,\n",
       "  'symbol': 'AMZN',\n",
       "  'volume': 2879695,\n",
       "  'pre_close': 1832.89,\n",
       "  'latest_time': 1565380800000,\n",
       "  'ask_size': 0,\n",
       "  'latest_price': 1807.58,\n",
       "  'ask_price': 0,\n",
       "  'bid_price': 0}]"
      ]
     },
     "execution_count": 17,
     "metadata": {},
     "output_type": "execute_result"
    }
   ],
   "source": [
    "get_stock_quote('AMZN')"
   ]
  },
  {
   "cell_type": "markdown",
   "metadata": {},
   "source": [
    "## 多轮会话bot实现"
   ]
  },
  {
   "cell_type": "code",
   "execution_count": 18,
   "metadata": {},
   "outputs": [],
   "source": [
    "import random\n",
    "robot_sentences = {\n",
    "    \"robot_intro\": [\n",
    "        \"Welcome, I am your robot which can help you stock searching\",\n",
    "        \"lalala, I am a robot to help you search for stock information\"\n",
    "    ],\n",
    "    \"specify_company\": [\n",
    "        \"So, What kind of stock information would you like to see for {}\",\n",
    "        \"~~~ What kind of stock info would you prefer to known for {}\",\n",
    "        \"biu biu, so what kind of info would you hope me offer for {}\",\n",
    "    ],\n",
    "    \"reply_open\": \"Stock open price: {}\",\n",
    "    \"reply_volume\": \"Stock Volume: {}\",\n",
    "    \"reply_cap\": \"Stock Market cap: {}\",\n",
    "    \"reply_current\": \"Current Stock price: {}\",\n",
    "    \"reply_all\": \"Current Stock Info: {}\",\n",
    "    \"default\": \"I'm sorry - I'm not sure how to help you\"\n",
    "}\n",
    "\n",
    "\n",
    "user_sentences = {\n",
    "    \"ask_open\": [\n",
    "        \"what about open price?\",\n",
    "        \"how about the open price?\"\n",
    "    ],\n",
    "    \"ask_volume\": [\n",
    "        \"what is the stock volume?\"\n",
    "    ],\n",
    "    \"ask_cap\": [\n",
    "        \"so the market cap\"\n",
    "    ],\n",
    "    \"ask_all\": [\n",
    "        \"tell me {} company current stock station?\"\n",
    "    ],\n",
    "    \"specify_company\": [\n",
    "        \"tell me something about {} stock info?\"\n",
    "    ],\n",
    "    \"thank\": [\"thank you\",\n",
    "              \"you are greet\"\n",
    "    ]\n",
    "}\n"
   ]
  },
  {
   "cell_type": "code",
   "execution_count": 19,
   "metadata": {},
   "outputs": [],
   "source": [
    "INIT = 0\n",
    "ROBOT_INTRO = 1\n",
    "ASK_COMPANY = 2\n",
    "ASK_ITEM = 3\n",
    "ASK_RANDOM = 4\n",
    "THANK = 5\n",
    "\n",
    "\n",
    "policy_rules = {\n",
    "    (INIT, \"none\"): INIT,\n",
    "    (INIT, \"greet\"): ROBOT_INTRO,\n",
    "    (ASK_RANDOM, \"greet\"): ASK_COMPANY,\n",
    "    (ROBOT_INTRO, \"specify_company\"): ASK_COMPANY,\n",
    "    (ASK_COMPANY, \"specify_company\"): ASK_ITEM,\n",
    "    (ASK_COMPANY, \"query_item\"): ASK_RANDOM,\n",
    "    (ASK_ITEM, \"query_item\"): ASK_RANDOM,\n",
    "    (ASK_RANDOM, \"query_item\"): ASK_RANDOM, \n",
    "    (ASK_RANDOM, \"query_item\"): ASK_RANDOM, \n",
    "}"
   ]
  },
  {
   "cell_type": "code",
   "execution_count": 20,
   "metadata": {},
   "outputs": [],
   "source": [
    "# remember state \n",
    "class StockMemory(object):\n",
    "    def __init__(self):\n",
    "        self.remembered_stock_code = None\n",
    "        self.remembered_item = None\n",
    "\n",
    "    def update_remembered_code(self,stock_code):\n",
    "        self.remembered_stock_code = stock_code\n",
    "\n",
    "    def get_remembered_code(self):\n",
    "        return self.remembered_stock_code\n",
    "\n",
    "\n",
    "    def update_remembered_item(self,query_item):\n",
    "        self.remembered_item = query_item\n",
    "\n",
    "    def get_remembered_item(self):\n",
    "        return self.remembered_item\n",
    "\n",
    "\n",
    "stockmemory = StockMemory()\n",
    "\n",
    "\n",
    "import logging\n",
    "logging.basicConfig(format='%(asctime)s - %(name)s - %(levelname)s - %(message)s',\n",
    "                     level=logging.INFO)\n",
    "## Implementing a state machine\n",
    "def send_message(policy, state, message):\n",
    "    print(\"USER : {}\".format(message))\n",
    "    new_state, response = respond(policy, state, message)\n",
    "    print(\"BOT : {}\".format(response))\n",
    "    return new_state\n",
    "\n",
    "def respond(policy, state, message):\n",
    "    command = interpret(message)\n",
    "    new_state = policy[(state, command)]\n",
    "    response = \"enen\"\n",
    "    \n",
    "    if command == 'none':\n",
    "        response = robot_sentences['default'] \n",
    "    if command == 'greet':\n",
    "        response = random.choice(robot_sentences['robot_intro'])\n",
    "        \n",
    "    if command == 'specify_company':\n",
    "        response = random.choice(robot_sentences['specify_company']).format(stockmemory.get_remembered_code())\n",
    "        \n",
    "    if command == 'query_item':\n",
    "        item = stockmemory.get_remembered_item()\n",
    "        quote = get_stock_quote(stockmemory.get_remembered_code())[0]\n",
    "        if item == 'open price' or item == 'open':\n",
    "            response = robot_sentences['reply_open'].format(quote['open'])\n",
    "        if item =='current price' or item == 'current':\n",
    "            response = robot_sentences['reply_current'].format(quote['latest_price'])\n",
    "        if item == 'volume':\n",
    "            response = robot_sentences['reply_volume'].format(quote['volume'])\n",
    "    return new_state, response\n",
    "\n",
    "def interpret(message):\n",
    "    intent = parse_intent(message)\n",
    "    if 'greet' in intent:\n",
    "        return 'greet'\n",
    "    nega_flag, nega_ents = negated_ents(message)\n",
    "    if nega_flag:\n",
    "        stockmemory.update_remembered_code(find_stock_code_from_company(nega_ents[0]))\n",
    "        logging.info(\"remebered_stock_code: \"+ stockmemory.get_remembered_code())\n",
    "        return 'specify_company'\n",
    "    \n",
    "    ents = parse_entities(message)\n",
    "    if 'stock_code' in ents:\n",
    "        stockmemory.update_remembered_code(ents['stock_code'])\n",
    "        logging.info(\"remebered_stock_code: \"+ stockmemory.get_remembered_code())\n",
    "        return 'specify_company'\n",
    "    elif 'company' in ents:\n",
    "        stockmemory.update_remembered_code(find_stock_code_from_company(ents['company']))\n",
    "        logging.info(\"remebered_stock_code: \"+ stockmemory.get_remembered_code())\n",
    "        return 'specify_company'\n",
    "    if 'stock_term' in ents:\n",
    "        stockmemory.update_remembered_item(ents['stock_term'])\n",
    "        logging.info(\"remembered_item: \" + stockmemory.get_remembered_item())\n",
    "        return 'query_item'\n",
    "    return 'none'"
   ]
  },
  {
   "cell_type": "code",
   "execution_count": 21,
   "metadata": {},
   "outputs": [
    {
     "data": {
      "text/plain": [
       "{'intent': {'name': 'stock_search', 'confidence': 0.834540227440055},\n",
       " 'entities': [{'start': 24,\n",
       "   'end': 31,\n",
       "   'value': 'alibaba',\n",
       "   'entity': 'company',\n",
       "   'confidence': 0.9118533491365585,\n",
       "   'extractor': 'CRFEntityExtractor',\n",
       "   'processors': ['EntitySynonymMapper']}],\n",
       " 'intent_ranking': [{'name': 'stock_search', 'confidence': 0.834540227440055},\n",
       "  {'name': 'greet', 'confidence': 0.03997930093810333},\n",
       "  {'name': 'robot_intro', 'confidence': 0.03758865236402424},\n",
       "  {'name': 'affirm', 'confidence': 0.03714374026339388},\n",
       "  {'name': 'goodbye', 'confidence': 0.029419101727120252},\n",
       "  {'name': 'thank', 'confidence': 0.021328977267303213}],\n",
       " 'text': 'tell me something about alibaba stock info?'}"
      ]
     },
     "execution_count": 21,
     "metadata": {},
     "output_type": "execute_result"
    }
   ],
   "source": [
    "interpreter.parse(random.choice(user_sentences['specify_company']).format('alibaba'))"
   ]
  },
  {
   "cell_type": "code",
   "execution_count": 22,
   "metadata": {},
   "outputs": [],
   "source": [
    "# policy_rules[(0,interpret(\"hi, good evening\"))]\n",
    "# interpret(\"i wanna know about the jd company\")"
   ]
  },
  {
   "cell_type": "code",
   "execution_count": 23,
   "metadata": {},
   "outputs": [
    {
     "name": "stdout",
     "output_type": "stream",
     "text": [
      "USER : hi, good evening\n",
      "BOT : lalala, I am a robot to help you search for stock information\n"
     ]
    },
    {
     "data": {
      "text/plain": [
       "1"
      ]
     },
     "execution_count": 23,
     "metadata": {},
     "output_type": "execute_result"
    }
   ],
   "source": [
    "send_message(policy_rules, 0, \"hi, good evening\")"
   ]
  },
  {
   "cell_type": "code",
   "execution_count": 24,
   "metadata": {},
   "outputs": [
    {
     "name": "stderr",
     "output_type": "stream",
     "text": [
      "2019-08-09 21:04:56,861 - root - INFO - remebered_stock_code: JD\n"
     ]
    },
    {
     "name": "stdout",
     "output_type": "stream",
     "text": [
      "USER : Could you tell me something about jd company\n",
      "BOT : ~~~ What kind of stock info would you prefer to known for JD\n"
     ]
    },
    {
     "data": {
      "text/plain": [
       "2"
      ]
     },
     "execution_count": 24,
     "metadata": {},
     "output_type": "execute_result"
    }
   ],
   "source": [
    "send_message(policy_rules, 1, \"Could you tell me something about jd company\")"
   ]
  },
  {
   "cell_type": "code",
   "execution_count": 25,
   "metadata": {},
   "outputs": [
    {
     "name": "stderr",
     "output_type": "stream",
     "text": [
      "2019-08-09 21:05:08,752 - root - INFO - remebered_stock_code: BABA\n"
     ]
    },
    {
     "name": "stdout",
     "output_type": "stream",
     "text": [
      "USER : Sorry, I changed for searching alibaba, not the jd\n",
      "BOT : So, What kind of stock information would you like to see for BABA\n"
     ]
    },
    {
     "data": {
      "text/plain": [
       "3"
      ]
     },
     "execution_count": 25,
     "metadata": {},
     "output_type": "execute_result"
    }
   ],
   "source": [
    "send_message(policy_rules, 2, \"Sorry, I changed for searching alibaba, not the jd\")"
   ]
  },
  {
   "cell_type": "code",
   "execution_count": 26,
   "metadata": {},
   "outputs": [
    {
     "name": "stderr",
     "output_type": "stream",
     "text": [
      "2019-08-09 21:05:14,938 - root - INFO - remembered_item: open\n"
     ]
    },
    {
     "name": "stdout",
     "output_type": "stream",
     "text": [
      "USER : what about the open price\n",
      "BOT : Stock open price: 160.98\n"
     ]
    },
    {
     "data": {
      "text/plain": [
       "4"
      ]
     },
     "execution_count": 26,
     "metadata": {},
     "output_type": "execute_result"
    }
   ],
   "source": [
    "send_message(policy_rules, 3, \"what about the open price\")"
   ]
  },
  {
   "cell_type": "code",
   "execution_count": 27,
   "metadata": {},
   "outputs": [
    {
     "name": "stderr",
     "output_type": "stream",
     "text": [
      "2019-08-09 21:05:18,194 - root - INFO - remembered_item: volume\n"
     ]
    },
    {
     "name": "stdout",
     "output_type": "stream",
     "text": [
      "USER : tell me today's volume\n",
      "BOT : Stock Volume: 11894087\n"
     ]
    },
    {
     "data": {
      "text/plain": [
       "4"
      ]
     },
     "execution_count": 27,
     "metadata": {},
     "output_type": "execute_result"
    }
   ],
   "source": [
    "send_message(policy_rules, 3, \"tell me today's volume\")"
   ]
  },
  {
   "cell_type": "markdown",
   "metadata": {},
   "source": [
    "## 否定会话测试"
   ]
  },
  {
   "cell_type": "code",
   "execution_count": 28,
   "metadata": {},
   "outputs": [],
   "source": [
    "tests= [\n",
    "    \"I prefer the google to the apple\",\n",
    "    \"Sorry, I wanna know something about alibaba instead of jd\",\n",
    "    \"Sorry, I changed for search alibaba, not the jd\"\n",
    "]"
   ]
  },
  {
   "cell_type": "code",
   "execution_count": 29,
   "metadata": {},
   "outputs": [],
   "source": [
    "b1,items1 = negated_ents(tests[0])\n",
    "b2,items2 = negated_ents(tests[1])\n",
    "b3,items3 = negated_ents(tests[2])"
   ]
  },
  {
   "cell_type": "code",
   "execution_count": 30,
   "metadata": {},
   "outputs": [
    {
     "data": {
      "text/plain": [
       "(True, ('google', 'apple'))"
      ]
     },
     "execution_count": 30,
     "metadata": {},
     "output_type": "execute_result"
    }
   ],
   "source": [
    "b1,items1"
   ]
  },
  {
   "cell_type": "code",
   "execution_count": 31,
   "metadata": {},
   "outputs": [
    {
     "data": {
      "text/plain": [
       "(True, ('alibaba', 'jd'))"
      ]
     },
     "execution_count": 31,
     "metadata": {},
     "output_type": "execute_result"
    }
   ],
   "source": [
    "b2,items2"
   ]
  },
  {
   "cell_type": "code",
   "execution_count": 518,
   "metadata": {},
   "outputs": [
    {
     "data": {
      "text/plain": [
       "(True, ('alibaba', 'jd'))"
      ]
     },
     "execution_count": 518,
     "metadata": {},
     "output_type": "execute_result"
    }
   ],
   "source": [
    "b3,items3"
   ]
  },
  {
   "cell_type": "code",
   "execution_count": null,
   "metadata": {},
   "outputs": [],
   "source": []
  },
  {
   "cell_type": "code",
   "execution_count": null,
   "metadata": {},
   "outputs": [],
   "source": []
  }
 ],
 "metadata": {
  "kernelspec": {
   "display_name": "Python 3",
   "language": "python",
   "name": "python3"
  },
  "language_info": {
   "codemirror_mode": {
    "name": "ipython",
    "version": 3
   },
   "file_extension": ".py",
   "mimetype": "text/x-python",
   "name": "python",
   "nbconvert_exporter": "python",
   "pygments_lexer": "ipython3",
   "version": "3.7.3"
  }
 },
 "nbformat": 4,
 "nbformat_minor": 2
}
